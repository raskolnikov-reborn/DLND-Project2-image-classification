{
 "cells": [
  {
   "cell_type": "markdown",
   "metadata": {
    "collapsed": true
   },
   "source": [
    "# Image Classification\n",
    "In this project, you'll classify images from the [CIFAR-10 dataset](https://www.cs.toronto.edu/~kriz/cifar.html).  The dataset consists of airplanes, dogs, cats, and other objects. You'll preprocess the images, then train a convolutional neural network on all the samples. The images need to be normalized and the labels need to be one-hot encoded.  You'll get to apply what you learned and build a convolutional, max pooling, dropout, and fully connected layers.  At the end, you'll get to see your neural network's predictions on the sample images.\n",
    "## Get the Data\n",
    "Run the following cell to download the [CIFAR-10 dataset for python](https://www.cs.toronto.edu/~kriz/cifar-10-python.tar.gz)."
   ]
  },
  {
   "cell_type": "code",
   "execution_count": 1,
   "metadata": {
    "collapsed": false
   },
   "outputs": [
    {
     "name": "stdout",
     "output_type": "stream",
     "text": [
      "All files found!\n"
     ]
    }
   ],
   "source": [
    "\"\"\"\n",
    "DON'T MODIFY ANYTHING IN THIS CELL THAT IS BELOW THIS LINE\n",
    "\"\"\"\n",
    "from urllib.request import urlretrieve\n",
    "from os.path import isfile, isdir\n",
    "from tqdm import tqdm\n",
    "import problem_unittests as tests\n",
    "import tarfile\n",
    "\n",
    "cifar10_dataset_folder_path = 'cifar-10-batches-py'\n",
    "\n",
    "class DLProgress(tqdm):\n",
    "    last_block = 0\n",
    "\n",
    "    def hook(self, block_num=1, block_size=1, total_size=None):\n",
    "        self.total = total_size\n",
    "        self.update((block_num - self.last_block) * block_size)\n",
    "        self.last_block = block_num\n",
    "\n",
    "if not isfile('cifar-10-python.tar.gz'):\n",
    "    with DLProgress(unit='B', unit_scale=True, miniters=1, desc='CIFAR-10 Dataset') as pbar:\n",
    "        urlretrieve(\n",
    "            'https://www.cs.toronto.edu/~kriz/cifar-10-python.tar.gz',\n",
    "            'cifar-10-python.tar.gz',\n",
    "            pbar.hook)\n",
    "\n",
    "if not isdir(cifar10_dataset_folder_path):\n",
    "    with tarfile.open('cifar-10-python.tar.gz') as tar:\n",
    "        tar.extractall()\n",
    "        tar.close()\n",
    "\n",
    "\n",
    "tests.test_folder_path(cifar10_dataset_folder_path)"
   ]
  },
  {
   "cell_type": "markdown",
   "metadata": {},
   "source": [
    "## Explore the Data\n",
    "The dataset is broken into batches to prevent your machine from running out of memory.  The CIFAR-10 dataset consists of 5 batches, named `data_batch_1`, `data_batch_2`, etc.. Each batch contains the labels and images that are one of the following:\n",
    "* airplane\n",
    "* automobile\n",
    "* bird\n",
    "* cat\n",
    "* deer\n",
    "* dog\n",
    "* frog\n",
    "* horse\n",
    "* ship\n",
    "* truck\n",
    "\n",
    "Understanding a dataset is part of making predictions on the data.  Play around with the code cell below by changing the `batch_id` and `sample_id`. The `batch_id` is the id for a batch (1-5). The `sample_id` is the id for a image and label pair in the batch.\n",
    "\n",
    "Ask yourself \"What are all possible labels?\", \"What is the range of values for the image data?\", \"Are the labels in order or random?\".  Answers to questions like these will help you preprocess the data and end up with better predictions."
   ]
  },
  {
   "cell_type": "code",
   "execution_count": 2,
   "metadata": {
    "collapsed": false
   },
   "outputs": [
    {
     "name": "stdout",
     "output_type": "stream",
     "text": [
      "\n",
      "Stats of batch 1:\n",
      "Samples: 10000\n",
      "Label Counts: {0: 1005, 1: 974, 2: 1032, 3: 1016, 4: 999, 5: 937, 6: 1030, 7: 1001, 8: 1025, 9: 981}\n",
      "First 20 Labels: [6, 9, 9, 4, 1, 1, 2, 7, 8, 3, 4, 7, 7, 2, 9, 9, 9, 3, 2, 6]\n",
      "\n",
      "Example of Image 5:\n",
      "Image - Min Value: 0 Max Value: 252\n",
      "Image - Shape: (32, 32, 3)\n",
      "Label - Label Id: 1 Name: automobile\n"
     ]
    },
    {
     "data": {
      "image/png": "[encoded data removed]",
      "text/plain": [
       "<matplotlib.figure.Figure at 0x13b8a8748>"
      ]
     },
     "metadata": {
      "image/png": {
       "height": 250,
       "width": 253
      }
     },
     "output_type": "display_data"
    }
   ],
   "source": [
    "%matplotlib inline\n",
    "%config InlineBackend.figure_format = 'retina'\n",
    "\n",
    "import helper\n",
    "\n",
    "# Explore the dataset\n",
    "batch_id = 1\n",
    "sample_id = 5\n",
    "helper.display_stats(cifar10_dataset_folder_path, batch_id, sample_id)"
   ]
  },
  {
   "cell_type": "markdown",
   "metadata": {},
   "source": [
    "## Implement Preprocess Functions\n",
    "### Normalize\n",
    "In the cell below, implement the `normalize` function to take in image data, `x`, and return it as a normalized Numpy array. The values should be in the range of 0 to 1, inclusive.  The return object should be the same shape as `x`."
   ]
  },
  {
   "cell_type": "markdown",
   "metadata": {},
   "source": [
    "$$x''' = (b-a)\\frac{x - \\min{x}}{\\max{x} - \\min{x}} + a$$"
   ]
  },
  {
   "cell_type": "code",
   "execution_count": 4,
   "metadata": {
    "collapsed": false
   },
   "outputs": [
    {
     "name": "stdout",
     "output_type": "stream",
     "text": [
      "Tests Passed\n"
     ]
    }
   ],
   "source": [
    "import matplotlib.pyplot as plt\n",
    "import numpy as np\n",
    "def normalize(x):\n",
    "    \"\"\"\n",
    "    Normalize a list of sample image data in the range of 0 to 1\n",
    "    : x: List of image data.  The image shape is (32, 32, 3)\n",
    "    : return: Numpy array of normalize data\n",
    "    \"\"\"\n",
    "    # TODO: Implement Function\n",
    "    # Find Max and min of images\n",
    "    min_x = np.min(x)\n",
    "    max_x = np.max(x)\n",
    "    # Normalize using equation mentioned above where b=1,a=0,minx=0,maxx=255,\n",
    "    \n",
    "    x_normalized = (x-min_x)/(max_x-min_x)\n",
    "    return x_normalized\n",
    "\n",
    "\n",
    "\"\"\"\n",
    "DON'T MODIFY ANYTHING IN THIS CELL THAT IS BELOW THIS LINE\n",
    "\"\"\"\n",
    "tests.test_normalize(normalize)"
   ]
  },
  {
   "cell_type": "markdown",
   "metadata": {},
   "source": [
    "### One-hot encode\n",
    "Just like the previous code cell, you'll be implementing a function for preprocessing.  This time, you'll implement the `one_hot_encode` function. The input, `x`, are a list of labels.  Implement the function to return the list of labels as One-Hot encoded Numpy array.  The possible values for labels are 0 to 9. The one-hot encoding function should return the same encoding for each value between each call to `one_hot_encode`.  Make sure to save the map of encodings outside the function.\n",
    "\n",
    "Hint: Don't reinvent the wheel."
   ]
  },
  {
   "cell_type": "code",
   "execution_count": 5,
   "metadata": {
    "collapsed": false
   },
   "outputs": [
    {
     "name": "stdout",
     "output_type": "stream",
     "text": [
      "Tests Passed\n"
     ]
    }
   ],
   "source": [
    "import numpy as np\n",
    "def one_hot_encode(x):\n",
    "    \"\"\"\n",
    "    One hot encode a list of sample labels. Return a one-hot encoded vector for each label.\n",
    "    : x: List of sample Labels\n",
    "    : return: Numpy array of one-hot encoded labels\n",
    "    \"\"\"\n",
    "    # TODO: Implement Function\n",
    "    one_hot = np.zeros((len(x),10))\n",
    "    for i in range(len(x)):\n",
    "        array = np.zeros(10)\n",
    "        array [x[i]] = 1\n",
    "        one_hot[i] = array\n",
    "    return one_hot\n",
    "\n",
    "\"\"\"\n",
    "DON'T MODIFY ANYTHING IN THIS CELL THAT IS BELOW THIS LINE\n",
    "\"\"\"\n",
    "tests.test_one_hot_encode(one_hot_encode)"
   ]
  },
  {
   "cell_type": "markdown",
   "metadata": {},
   "source": [
    "### Randomize Data\n",
    "As you saw from exploring the data above, the order of the samples are randomized.  It doesn't hurt to randomize it again, but you don't need to for this dataset."
   ]
  },
  {
   "cell_type": "markdown",
   "metadata": {},
   "source": [
    "## Preprocess all the data and save it\n",
    "Running the code cell below will preprocess all the CIFAR-10 data and save it to file. The code below also uses 10% of the training data for validation."
   ]
  },
  {
   "cell_type": "code",
   "execution_count": 6,
   "metadata": {
    "collapsed": false
   },
   "outputs": [],
   "source": [
    "\"\"\"\n",
    "DON'T MODIFY ANYTHING IN THIS CELL\n",
    "\"\"\"\n",
    "# Preprocess Training, Validation, and Testing Data\n",
    "helper.preprocess_and_save_data(cifar10_dataset_folder_path, normalize, one_hot_encode)"
   ]
  },
  {
   "cell_type": "markdown",
   "metadata": {},
   "source": [
    "# Check Point\n",
    "This is your first checkpoint.  If you ever decide to come back to this notebook or have to restart the notebook, you can start from here.  The preprocessed data has been saved to disk."
   ]
  },
  {
   "cell_type": "code",
   "execution_count": 7,
   "metadata": {
    "collapsed": true
   },
   "outputs": [],
   "source": [
    "\"\"\"\n",
    "DON'T MODIFY ANYTHING IN THIS CELL\n",
    "\"\"\"\n",
    "import pickle\n",
    "import problem_unittests as tests\n",
    "import helper\n",
    "\n",
    "# Load the Preprocessed Validation data\n",
    "valid_features, valid_labels = pickle.load(open('preprocess_validation.p', mode='rb'))"
   ]
  },
  {
   "cell_type": "markdown",
   "metadata": {},
   "source": [
    "## Build the network\n",
    "For the neural network, you'll build each layer into a function.  Most of the code you've seen has been outside of functions. To test your code more thoroughly, we require that you put each layer in a function.  This allows us to give you better feedback and test for simple mistakes using our unittests before you submit your project.\n",
    "\n",
    ">**Note:** If you're finding it hard to dedicate enough time for this course each week, we've provided a small shortcut to this part of the project. In the next couple of problems, you'll have the option to use classes from the [TensorFlow Layers](https://www.tensorflow.org/api_docs/python/tf/layers) or [TensorFlow Layers (contrib)](https://www.tensorflow.org/api_guides/python/contrib.layers) packages to build each layer, except the layers you build in the \"Convolutional and Max Pooling Layer\" section.  TF Layers is similar to Keras's and TFLearn's abstraction to layers, so it's easy to pickup.\n",
    "\n",
    ">However, if you would like to get the most out of this course, try to solve all the problems _without_ using anything from the TF Layers packages. You **can** still use classes from other packages that happen to have the same name as ones you find in TF Layers! For example, instead of using the TF Layers version of the `conv2d` class, [tf.layers.conv2d](https://www.tensorflow.org/api_docs/python/tf/layers/conv2d), you would want to use the TF Neural Network version of `conv2d`, [tf.nn.conv2d](https://www.tensorflow.org/api_docs/python/tf/nn/conv2d). \n",
    "\n",
    "Let's begin!\n",
    "\n",
    "### Input\n",
    "The neural network needs to read the image data, one-hot encoded labels, and dropout keep probability. Implement the following functions\n",
    "* Implement `neural_net_image_input`\n",
    " * Return a [TF Placeholder](https://www.tensorflow.org/api_docs/python/tf/placeholder)\n",
    " * Set the shape using `image_shape` with batch size set to `None`.\n",
    " * Name the TensorFlow placeholder \"x\" using the TensorFlow `name` parameter in the [TF Placeholder](https://www.tensorflow.org/api_docs/python/tf/placeholder).\n",
    "* Implement `neural_net_label_input`\n",
    " * Return a [TF Placeholder](https://www.tensorflow.org/api_docs/python/tf/placeholder)\n",
    " * Set the shape using `n_classes` with batch size set to `None`.\n",
    " * Name the TensorFlow placeholder \"y\" using the TensorFlow `name` parameter in the [TF Placeholder](https://www.tensorflow.org/api_docs/python/tf/placeholder).\n",
    "* Implement `neural_net_keep_prob_input`\n",
    " * Return a [TF Placeholder](https://www.tensorflow.org/api_docs/python/tf/placeholder) for dropout keep probability.\n",
    " * Name the TensorFlow placeholder \"keep_prob\" using the TensorFlow `name` parameter in the [TF Placeholder](https://www.tensorflow.org/api_docs/python/tf/placeholder).\n",
    "\n",
    "These names will be used at the end of the project to load your saved model.\n",
    "\n",
    "Note: `None` for shapes in TensorFlow allow for a dynamic size."
   ]
  },
  {
   "cell_type": "code",
   "execution_count": 8,
   "metadata": {
    "collapsed": false
   },
   "outputs": [
    {
     "name": "stdout",
     "output_type": "stream",
     "text": [
      "Image Input Tests Passed.\n",
      "Label Input Tests Passed.\n",
      "Keep Prob Tests Passed.\n"
     ]
    }
   ],
   "source": [
    "import tensorflow as tf\n",
    "import numpy as np\n",
    "\n",
    "def neural_net_image_input(image_shape):\n",
    "    \"\"\"\n",
    "    Return a Tensor for a batch of image input\n",
    "    : image_shape: Shape of the images\n",
    "    : return: Tensor for image input.\n",
    "    \"\"\"\n",
    "    # TODO: Implement Function\n",
    "    x = tf.placeholder(tf.float32,shape =\n",
    "                       (None,\n",
    "                        image_shape[0],\n",
    "                        image_shape[1],\n",
    "                        image_shape[2]),\n",
    "                        name='x')\n",
    "    \n",
    "    return x\n",
    "\n",
    "\n",
    "def neural_net_label_input(n_classes):\n",
    "    \"\"\"\n",
    "    Return a Tensor for a batch of label input\n",
    "    : n_classes: Number of classes\n",
    "    : return: Tensor for label input.\n",
    "    \"\"\"\n",
    "    # TODO: Implement Function\n",
    "    y = tf.placeholder(tf.int32, \n",
    "                       (None,n_classes),\n",
    "                       name='y')\n",
    "    return y\n",
    "\n",
    "\n",
    "def neural_net_keep_prob_input():\n",
    "    \"\"\"\n",
    "    Return a Tensor for keep probability\n",
    "    : return: Tensor for keep probability.\n",
    "    \"\"\"\n",
    "    # TODO: Implement Function\n",
    "    keep_prob = tf.placeholder(tf.float32, \n",
    "                               name='keep_prob') \n",
    "    return keep_prob\n",
    "\n",
    "\n",
    "\"\"\"\n",
    "DON'T MODIFY ANYTHING IN THIS CELL THAT IS BELOW THIS LINE\n",
    "\"\"\"\n",
    "tf.reset_default_graph()\n",
    "\n",
    "tests.test_nn_image_inputs(neural_net_image_input)\n",
    "tests.test_nn_label_inputs(neural_net_label_input)\n",
    "tests.test_nn_keep_prob_inputs(neural_net_keep_prob_input)"
   ]
  },
  {
   "cell_type": "markdown",
   "metadata": {},
   "source": [
    "### Convolution and Max Pooling Layer\n",
    "Convolution layers have a lot of success with images. For this code cell, you should implement the function `conv2d_maxpool` to apply convolution then max pooling:\n",
    "* Create the weight and bias using `conv_ksize`, `conv_num_outputs` and the shape of `x_tensor`.\n",
    "* Apply a convolution to `x_tensor` using weight and `conv_strides`.\n",
    " * We recommend you use same padding, but you're welcome to use any padding.\n",
    "* Add bias\n",
    "* Add a nonlinear activation to the convolution.\n",
    "* Apply Max Pooling using `pool_ksize` and `pool_strides`.\n",
    " * We recommend you use same padding, but you're welcome to use any padding.\n",
    "\n",
    "**Note:** You **can't** use [TensorFlow Layers](https://www.tensorflow.org/api_docs/python/tf/layers) or [TensorFlow Layers (contrib)](https://www.tensorflow.org/api_guides/python/contrib.layers) for **this** layer, but you can still use TensorFlow's [Neural Network](https://www.tensorflow.org/api_docs/python/tf/nn) package. You may still use the shortcut option for all the **other** layers."
   ]
  },
  {
   "cell_type": "code",
   "execution_count": 9,
   "metadata": {
    "collapsed": false
   },
   "outputs": [
    {
     "name": "stdout",
     "output_type": "stream",
     "text": [
      "Tests Passed\n"
     ]
    }
   ],
   "source": [
    "def conv2d_maxpool(x_tensor, conv_num_outputs, conv_ksize, conv_strides, pool_ksize, pool_strides):\n",
    "    \"\"\"\n",
    "    Apply convolution then max pooling to x_tensor\n",
    "    :param x_tensor: TensorFlow Tensor\n",
    "    :param conv_num_outputs: Number of outputs for the convolutional layer\n",
    "    :param conv_ksize: kernal size 2-D Tuple for the convolutional layer\n",
    "    :param conv_strides: Stride 2-D Tuple for convolution\n",
    "    :param pool_ksize: kernal size 2-D Tuple for pool\n",
    "    :param pool_strides: Stride 2-D Tuple for pool\n",
    "    : return: A tensor that represents convolution and max pooling of x_tensor\n",
    "    \"\"\"\n",
    "    # TODO: Implement Function\n",
    "    # Find the depth of the input\n",
    "    input_depth = x_tensor.shape[3]\n",
    "    \n",
    "    shape_array = np.array((conv_ksize[0], conv_ksize[1], input_depth,\n",
    "                          conv_num_outputs), int)\n",
    "\n",
    "    # Initialize biases as zero\n",
    "    biases = tf.Variable(tf.zeros((conv_num_outputs)))\n",
    "    \n",
    "    # Initialize weights as random normals\n",
    "    weights = tf.Variable(tf.truncated_normal(shape = shape_array, stddev=0.1))\n",
    "    \n",
    "    # Add Convolution Layer\n",
    "    conv_layer = tf.nn.conv2d(x_tensor, weights, strides=(1,conv_strides[0],conv_strides[1],1),\n",
    "                              padding='SAME') + biases\n",
    "    # Activate using ReLu\n",
    "    act = tf.nn.relu(conv_layer)\n",
    "\n",
    "    # Maxpool by parameters\n",
    "    pool = tf.nn.max_pool(act, ksize=[1, pool_ksize[0], pool_ksize[1], 1], strides=[1,\n",
    "                                pool_strides[0], pool_strides[1], 1], padding='SAME')\n",
    "    \n",
    "    return pool\n",
    "\n",
    "\n",
    "\"\"\"\n",
    "DON'T MODIFY ANYTHING IN THIS CELL THAT IS BELOW THIS LINE\n",
    "\"\"\"\n",
    "tests.test_con_pool(conv2d_maxpool)"
   ]
  },
  {
   "cell_type": "markdown",
   "metadata": {},
   "source": [
    "### Flatten Layer\n",
    "Implement the `flatten` function to change the dimension of `x_tensor` from a 4-D tensor to a 2-D tensor.  The output should be the shape (*Batch Size*, *Flattened Image Size*). Shortcut option: you can use classes from the [TensorFlow Layers](https://www.tensorflow.org/api_docs/python/tf/layers) or [TensorFlow Layers (contrib)](https://www.tensorflow.org/api_guides/python/contrib.layers) packages for this layer. For more of a challenge, only use other TensorFlow packages."
   ]
  },
  {
   "cell_type": "code",
   "execution_count": 10,
   "metadata": {
    "collapsed": false
   },
   "outputs": [
    {
     "name": "stdout",
     "output_type": "stream",
     "text": [
      "Tests Passed\n"
     ]
    }
   ],
   "source": [
    "def flatten(x_tensor):\n",
    "    \"\"\"\n",
    "    Flatten x_tensor to (Batch Size, Flattened Image Size)\n",
    "    : x_tensor: A tensor of size (Batch Size, ...), where ... are the image dimensions.\n",
    "    : return: A tensor of size (Batch Size, Flattened Image Size).\n",
    "    \"\"\"\n",
    "    # TODO: Implement Function\n",
    "\n",
    "    # Get input Tensor shape as list\n",
    "    shape = x_tensor.get_shape().as_list()\n",
    "    # Create 1D input dimension. Note: In future, no. of dimensions to reshape\n",
    "    # into can be passed as an argument.\n",
    "\n",
    "    dimensions = np.prod(shape[1:])\n",
    "    flattened_x = tf.reshape(x_tensor, [-1, dimensions])\n",
    "    return flattened_x\n",
    "\n",
    "\n",
    "\"\"\"\n",
    "DON'T MODIFY ANYTHING IN THIS CELL THAT IS BELOW THIS LINE\n",
    "\"\"\"\n",
    "tests.test_flatten(flatten)"
   ]
  },
  {
   "cell_type": "markdown",
   "metadata": {},
   "source": [
    "### Fully-Connected Layer\n",
    "Implement the `fully_conn` function to apply a fully connected layer to `x_tensor` with the shape (*Batch Size*, *num_outputs*). Shortcut option: you can use classes from the [TensorFlow Layers](https://www.tensorflow.org/api_docs/python/tf/layers) or [TensorFlow Layers (contrib)](https://www.tensorflow.org/api_guides/python/contrib.layers) packages for this layer. For more of a challenge, only use other TensorFlow packages."
   ]
  },
  {
   "cell_type": "code",
   "execution_count": 11,
   "metadata": {
    "collapsed": false
   },
   "outputs": [
    {
     "name": "stdout",
     "output_type": "stream",
     "text": [
      "Tests Passed\n"
     ]
    }
   ],
   "source": [
    "def fully_conn(x_tensor, num_outputs):\n",
    "    \"\"\"\n",
    "    Apply a fully connected layer to x_tensor using weight and bias\n",
    "    : x_tensor: A 2-D tensor where the first dimension is batch size.\n",
    "    : num_outputs: The number of output that the new tensor should be.\n",
    "    : return: A 2-D tensor where the second dimension is num_outputs.\n",
    "    \"\"\"\n",
    "    # TODO: Implement Function\n",
    "\n",
    "    # Initialize Weights\n",
    "    weights_fc = \\\n",
    "            tf.Variable(tf.truncated_normal(shape=(x_tensor.get_shape().as_list()[1],\n",
    "                        num_outputs), stddev=0.1))\n",
    "\n",
    "    # Initialize Biases\n",
    "    biases_fc = tf.Variable(tf.zeros(num_outputs))\n",
    "\n",
    "    # fc_activation = ReLu(XW + b)\n",
    "    fc_out = tf.nn.relu(tf.add(tf.matmul(x_tensor,\n",
    "                             weights_fc), biases_fc))\n",
    "    \n",
    "    return fc_out\n",
    "\n",
    "\n",
    "\"\"\"\n",
    "DON'T MODIFY ANYTHING IN THIS CELL THAT IS BELOW THIS LINE\n",
    "\"\"\"\n",
    "\n",
    "tests.test_fully_conn(fully_conn)"
   ]
  },
  {
   "cell_type": "markdown",
   "metadata": {},
   "source": [
    "### Output Layer\n",
    "Implement the `output` function to apply a fully connected layer to `x_tensor` with the shape (*Batch Size*, *num_outputs*). Shortcut option: you can use classes from the [TensorFlow Layers](https://www.tensorflow.org/api_docs/python/tf/layers) or [TensorFlow Layers (contrib)](https://www.tensorflow.org/api_guides/python/contrib.layers) packages for this layer. For more of a challenge, only use other TensorFlow packages.\n",
    "\n",
    "**Note:** Activation, softmax, or cross entropy should **not** be applied to this."
   ]
  },
  {
   "cell_type": "code",
   "execution_count": 12,
   "metadata": {
    "collapsed": false
   },
   "outputs": [
    {
     "name": "stdout",
     "output_type": "stream",
     "text": [
      "Tests Passed\n"
     ]
    }
   ],
   "source": [
    "def output(x_tensor, num_outputs):\n",
    "    \"\"\"\n",
    "    Apply a output layer to x_tensor using weight and bias\n",
    "    : x_tensor: A 2-D tensor where the first dimension is batch size.\n",
    "    : num_outputs: The number of output that the new tensor should be.\n",
    "    : return: A 2-D tensor where the second dimension is num_outputs.\n",
    "    \"\"\"\n",
    "    # TODO: Implement Function\n",
    "    # Initialize Weights\n",
    "    weights_output = \\\n",
    "            tf.Variable(tf.truncated_normal(shape=(x_tensor.get_shape().as_list()[1],\n",
    "                        num_outputs), stddev=0.1))\n",
    "    # Initialize biases\n",
    "    biases_output = tf.Variable(tf.zeros(num_outputs))\n",
    "    \n",
    "    # activation = (XW + b)\n",
    "    output_layer = tf.add(tf.matmul(x_tensor,\n",
    "                             weights_output), biases_output)\n",
    "    return output_layer\n",
    "\n",
    "\"\"\"\n",
    "DON'T MODIFY ANYTHING IN THIS CELL THAT IS BELOW THIS LINE\n",
    "\"\"\"\n",
    "tests.test_output(output)"
   ]
  },
  {
   "cell_type": "markdown",
   "metadata": {},
   "source": [
    "### Create Convolutional Model\n",
    "Implement the function `conv_net` to create a convolutional neural network model. The function takes in a batch of images, `x`, and outputs logits.  Use the layers you created above to create this model:\n",
    "\n",
    "* Apply 1, 2, or 3 Convolution and Max Pool layers\n",
    "* Apply a Flatten Layer\n",
    "* Apply 1, 2, or 3 Fully Connected Layers\n",
    "* Apply an Output Layer\n",
    "* Return the output\n",
    "* Apply [TensorFlow's Dropout](https://www.tensorflow.org/api_docs/python/tf/nn/dropout) to one or more layers in the model using `keep_prob`. "
   ]
  },
  {
   "cell_type": "code",
   "execution_count": 29,
   "metadata": {
    "collapsed": false
   },
   "outputs": [
    {
     "name": "stdout",
     "output_type": "stream",
     "text": [
      "Neural Network Built!\n"
     ]
    }
   ],
   "source": [
    "def conv_net(x, keep_prob):\n",
    "    \"\"\"\n",
    "    Create a convolutional neural network model\n",
    "    : x: Placeholder tensor that holds image data.\n",
    "    : keep_prob: Placeholder tensor that hold dropout keep probability.\n",
    "    : return: Tensor that represents logits\n",
    "    \"\"\"\n",
    "    # TODO: Apply 1, 2, or 3 Convolution and Max Pool layers\n",
    "    #    Play around with different number of outputs, kernel size and stride\n",
    "\n",
    "    # Layer 1 : filter: (5x5), Depth: 32, pooling:1x1, strides: 1x1\n",
    "    conv_layer_1 = conv2d_maxpool( \n",
    "                    x, 32, (5,5), (1,1), (2,2), (2,2))\n",
    "    \n",
    "    # Layer 2 : filter: (7x7), Depth: 32, pooling:2x2, strides: 2x2\n",
    "    conv_layer_2 = conv2d_maxpool( \n",
    "                    conv_layer_1, 64, (7,7), (1,1), (2,2), (2,2))\n",
    "    conv_layer_2 = tf.nn.dropout(conv_layer_2, keep_prob)\n",
    "    \n",
    "    # Layer 3 : filter: (5x5), Depth: 64, pooling:1x1, strides: 1x1 \n",
    "    conv_layer_3 = conv2d_maxpool( \n",
    "                    conv_layer_2, 64, (5,5), (1,1), (1,1), (1,1))\n",
    "    \n",
    "    \n",
    "    \n",
    "    # TODO: Apply a Flatten Layer\n",
    "    # Function Definition from Above:\n",
    "    flattened_layer = flatten(conv_layer_3)\n",
    "     \n",
    "    # TODO: Create a fully connected layer\n",
    "    fc = fully_conn(flattened_layer, 1024)\n",
    "    fc = tf.nn.dropout(fc,keep_prob)\n",
    "\n",
    "    # TODO: Apply an Output Layer\n",
    "    # Set this to the number of classes\n",
    "    # Function Definition from Above:\n",
    "    output_val = output(fc, 10)\n",
    "\n",
    "\n",
    "    # TODO: return output\n",
    "    return output_val\n",
    "\n",
    "\n",
    "\"\"\"\n",
    "DON'T MODIFY ANYTHING IN THIS CELL THAT IS BELOW THIS LINE\n",
    "\"\"\"\n",
    "\n",
    "##############################\n",
    "## Build the Neural Network ##\n",
    "##############################\n",
    "\n",
    "# Remove previous weights, bias, inputs, etc..\n",
    "tf.reset_default_graph()\n",
    "# Inputs\n",
    "x = neural_net_image_input((32, 32, 3))\n",
    "y = neural_net_label_input(10)\n",
    "keep_prob = neural_net_keep_prob_input()\n",
    "\n",
    "# Model\n",
    "logits = conv_net(x, keep_prob)\n",
    "\n",
    "# Name logits Tensor, so that is can be loaded from disk after training\n",
    "logits = tf.identity(logits, name='logits')\n",
    "\n",
    "# Loss and Optimizer\n",
    "cost = tf.reduce_mean(tf.nn.softmax_cross_entropy_with_logits(logits=logits, labels=y))\n",
    "optimizer = tf.train.AdamOptimizer().minimize(cost)\n",
    "\n",
    "# Accuracy\n",
    "correct_pred = tf.equal(tf.argmax(logits, 1), tf.argmax(y, 1))\n",
    "accuracy = tf.reduce_mean(tf.cast(correct_pred, tf.float32), name='accuracy')\n",
    "\n",
    "tests.test_conv_net(conv_net)"
   ]
  },
  {
   "cell_type": "markdown",
   "metadata": {},
   "source": [
    "## Train the Neural Network\n",
    "### Single Optimization\n",
    "Implement the function `train_neural_network` to do a single optimization.  The optimization should use `optimizer` to optimize in `session` with a `feed_dict` of the following:\n",
    "* `x` for image input\n",
    "* `y` for labels\n",
    "* `keep_prob` for keep probability for dropout\n",
    "\n",
    "This function will be called for each batch, so `tf.global_variables_initializer()` has already been called.\n",
    "\n",
    "Note: Nothing needs to be returned. This function is only optimizing the neural network."
   ]
  },
  {
   "cell_type": "code",
   "execution_count": 30,
   "metadata": {
    "collapsed": false
   },
   "outputs": [
    {
     "name": "stdout",
     "output_type": "stream",
     "text": [
      "Tests Passed\n"
     ]
    }
   ],
   "source": [
    "def train_neural_network(session, optimizer, keep_probability, feature_batch, label_batch):\n",
    "    \"\"\"\n",
    "    Optimize the session on a batch of images and labels\n",
    "    : session: Current TensorFlow session\n",
    "    : optimizer: TensorFlow optimizer function\n",
    "    : keep_probability: keep probability\n",
    "    : feature_batch: Batch of Numpy image data\n",
    "    : label_batch: Batch of Numpy label data\n",
    "    \"\"\"\n",
    "    # TODO: Implement Function\n",
    "    # Optimizer is Adam mimization of cost as declared above\n",
    "    session.run(optimizer,feed_dict={x:feature_batch,y:label_batch, keep_prob:keep_probability})\n",
    "    pass\n",
    "\n",
    "\n",
    "\"\"\"\n",
    "DON'T MODIFY ANYTHING IN THIS CELL THAT IS BELOW THIS LINE\n",
    "\"\"\"\n",
    "tests.test_train_nn(train_neural_network)"
   ]
  },
  {
   "cell_type": "markdown",
   "metadata": {},
   "source": [
    "### Show Stats\n",
    "Implement the function `print_stats` to print loss and validation accuracy.  Use the global variables `valid_features` and `valid_labels` to calculate validation accuracy.  Use a keep probability of `1.0` to calculate the loss and validation accuracy."
   ]
  },
  {
   "cell_type": "code",
   "execution_count": 31,
   "metadata": {
    "collapsed": false
   },
   "outputs": [],
   "source": [
    "def print_stats(session, feature_batch, label_batch, cost, accuracy):\n",
    "    \"\"\"\n",
    "    Print information about loss and validation accuracy\n",
    "    : session: Current TensorFlow session\n",
    "    : feature_batch: Batch of Numpy image data\n",
    "    : label_batch: Batch of Numpy label data\n",
    "    : cost: TensorFlow cost function\n",
    "    : accuracy: TensorFlow accuracy function\n",
    "    \"\"\"\n",
    "    # TODO: Implement Function\n",
    "\n",
    "    print('Accuracy:', session.run(accuracy, feed_dict={x:feature_batch,y:label_batch,keep_prob:1.0}),\n",
    "    'Cost: ', session.run(cost,feed_dict={x:feature_batch,y:label_batch,keep_prob:1.0}))\n",
    "    \n",
    "    pass"
   ]
  },
  {
   "cell_type": "markdown",
   "metadata": {},
   "source": [
    "### Hyperparameters\n",
    "Tune the following parameters:\n",
    "* Set `epochs` to the number of iterations until the network stops learning or start overfitting\n",
    "* Set `batch_size` to the highest number that your machine has memory for.  Most people set them to common sizes of memory:\n",
    " * 64\n",
    " * 128\n",
    " * 256\n",
    " * ...\n",
    "* Set `keep_probability` to the probability of keeping a node using dropout"
   ]
  },
  {
   "cell_type": "code",
   "execution_count": 40,
   "metadata": {
    "collapsed": true
   },
   "outputs": [],
   "source": [
    "# TODO: Tune Parameters\n",
    "epochs = 40\n",
    "batch_size = 2048\n",
    "keep_probability = 0.5"
   ]
  },
  {
   "cell_type": "markdown",
   "metadata": {},
   "source": [
    "### Train on a Single CIFAR-10 Batch\n",
    "Instead of training the neural network on all the CIFAR-10 batches of data, let's use a single batch. This should save time while you iterate on the model to get a better accuracy.  Once the final validation accuracy is 50% or greater, run the model on all the data in the next section."
   ]
  },
  {
   "cell_type": "code",
   "execution_count": 41,
   "metadata": {
    "collapsed": false
   },
   "outputs": [
    {
     "name": "stdout",
     "output_type": "stream",
     "text": [
      "Checking the Training on a Single Batch...\n",
      "Epoch  1, CIFAR-10 Batch 1:  Accuracy: 0.144802 Cost:  2.85128\n",
      "Epoch  2, CIFAR-10 Batch 1:  Accuracy: 0.137376 Cost:  2.33123\n",
      "Epoch  3, CIFAR-10 Batch 1:  Accuracy: 0.154703 Cost:  2.28107\n",
      "Epoch  4, CIFAR-10 Batch 1:  Accuracy: 0.185644 Cost:  2.26932\n",
      "Epoch  5, CIFAR-10 Batch 1:  Accuracy: 0.204208 Cost:  2.26321\n",
      "Epoch  6, CIFAR-10 Batch 1:  Accuracy: 0.188119 Cost:  2.25169\n",
      "Epoch  7, CIFAR-10 Batch 1:  Accuracy: 0.193069 Cost:  2.23388\n",
      "Epoch  8, CIFAR-10 Batch 1:  Accuracy: 0.201733 Cost:  2.19977\n",
      "Epoch  9, CIFAR-10 Batch 1:  Accuracy: 0.238861 Cost:  2.1549\n",
      "Epoch 10, CIFAR-10 Batch 1:  Accuracy: 0.258663 Cost:  2.09389\n",
      "Epoch 11, CIFAR-10 Batch 1:  Accuracy: 0.287129 Cost:  2.04122\n",
      "Epoch 12, CIFAR-10 Batch 1:  Accuracy: 0.310644 Cost:  1.99957\n",
      "Epoch 13, CIFAR-10 Batch 1:  Accuracy: 0.329208 Cost:  1.96442\n",
      "Epoch 14, CIFAR-10 Batch 1:  Accuracy: 0.340347 Cost:  1.92143\n",
      "Epoch 15, CIFAR-10 Batch 1:  Accuracy: 0.361386 Cost:  1.88217\n",
      "Epoch 16, CIFAR-10 Batch 1:  Accuracy: 0.361386 Cost:  1.85624\n",
      "Epoch 17, CIFAR-10 Batch 1:  Accuracy: 0.371287 Cost:  1.81461\n",
      "Epoch 18, CIFAR-10 Batch 1:  Accuracy: 0.394802 Cost:  1.79065\n",
      "Epoch 19, CIFAR-10 Batch 1:  Accuracy: 0.407178 Cost:  1.75508\n",
      "Epoch 20, CIFAR-10 Batch 1:  Accuracy: 0.424505 Cost:  1.74075\n",
      "Epoch 21, CIFAR-10 Batch 1:  Accuracy: 0.438119 Cost:  1.69459\n",
      "Epoch 22, CIFAR-10 Batch 1:  Accuracy: 0.441832 Cost:  1.68367\n",
      "Epoch 23, CIFAR-10 Batch 1:  Accuracy: 0.450495 Cost:  1.63833\n",
      "Epoch 24, CIFAR-10 Batch 1:  Accuracy: 0.454208 Cost:  1.62732\n",
      "Epoch 25, CIFAR-10 Batch 1:  Accuracy: 0.467822 Cost:  1.57021\n",
      "Epoch 26, CIFAR-10 Batch 1:  Accuracy: 0.465346 Cost:  1.56916\n",
      "Epoch 27, CIFAR-10 Batch 1:  Accuracy: 0.471535 Cost:  1.53083\n",
      "Epoch 28, CIFAR-10 Batch 1:  Accuracy: 0.488861 Cost:  1.50122\n",
      "Epoch 29, CIFAR-10 Batch 1:  Accuracy: 0.492574 Cost:  1.4736\n",
      "Epoch 30, CIFAR-10 Batch 1:  Accuracy: 0.492574 Cost:  1.42895\n",
      "Epoch 31, CIFAR-10 Batch 1:  Accuracy: 0.506188 Cost:  1.40578\n",
      "Epoch 32, CIFAR-10 Batch 1:  Accuracy: 0.512376 Cost:  1.39281\n",
      "Epoch 33, CIFAR-10 Batch 1:  Accuracy: 0.544554 Cost:  1.34234\n",
      "Epoch 34, CIFAR-10 Batch 1:  Accuracy: 0.545792 Cost:  1.33949\n",
      "Epoch 35, CIFAR-10 Batch 1:  Accuracy: 0.545792 Cost:  1.31036\n",
      "Epoch 36, CIFAR-10 Batch 1:  Accuracy: 0.549505 Cost:  1.29858\n",
      "Epoch 37, CIFAR-10 Batch 1:  Accuracy: 0.57797 Cost:  1.24702\n",
      "Epoch 38, CIFAR-10 Batch 1:  Accuracy: 0.580446 Cost:  1.23945\n",
      "Epoch 39, CIFAR-10 Batch 1:  Accuracy: 0.590347 Cost:  1.22096\n",
      "Epoch 40, CIFAR-10 Batch 1:  Accuracy: 0.59901 Cost:  1.19959\n"
     ]
    }
   ],
   "source": [
    "\"\"\"\n",
    "DON'T MODIFY ANYTHING IN THIS CELL\n",
    "\"\"\"\n",
    "print('Checking the Training on a Single Batch...')\n",
    "\n",
    "with tf.Session(config=tf.ConfigProto(allow_soft_placement=True)) as sess:\n",
    "    # Initializing the variables\n",
    "    sess.run(tf.global_variables_initializer())\n",
    "\n",
    "# Training cycle\n",
    "    for epoch in range(epochs):\n",
    "        batch_i = 1\n",
    "        for batch_features, batch_labels in helper.load_preprocess_training_batch(batch_i, batch_size):\n",
    "            train_neural_network(sess, optimizer, keep_probability, batch_features, batch_labels)\n",
    "        print('Epoch {:>2}, CIFAR-10 Batch {}:  '.format(epoch + 1, batch_i), end='')\n",
    "        print_stats(sess, batch_features, batch_labels, cost, accuracy)"
   ]
  },
  {
   "cell_type": "markdown",
   "metadata": {},
   "source": [
    "### Fully Train the Model\n",
    "Now that you got a good accuracy with a single CIFAR-10 batch, try it with all five batches."
   ]
  },
  {
   "cell_type": "code",
   "execution_count": 42,
   "metadata": {
    "collapsed": false
   },
   "outputs": [
    {
     "name": "stdout",
     "output_type": "stream",
     "text": [
      "Training...\n",
      "Epoch  1, CIFAR-10 Batch 1:  Accuracy: 0.131188 Cost:  5.34557\n",
      "Epoch  1, CIFAR-10 Batch 2:  Accuracy: 0.131188 Cost:  2.39917\n",
      "Epoch  1, CIFAR-10 Batch 3:  Accuracy: 0.175743 Cost:  2.23136\n",
      "Epoch  1, CIFAR-10 Batch 4:  Accuracy: 0.163366 Cost:  2.23345\n",
      "Epoch  1, CIFAR-10 Batch 5:  Accuracy: 0.179455 Cost:  2.23052\n",
      "Epoch  2, CIFAR-10 Batch 1:  Accuracy: 0.179455 Cost:  2.22921\n",
      "Epoch  2, CIFAR-10 Batch 2:  Accuracy: 0.188119 Cost:  2.2045\n",
      "Epoch  2, CIFAR-10 Batch 3:  Accuracy: 0.200495 Cost:  2.18204\n",
      "Epoch  2, CIFAR-10 Batch 4:  Accuracy: 0.186881 Cost:  2.12939\n",
      "Epoch  2, CIFAR-10 Batch 5:  Accuracy: 0.206683 Cost:  2.10927\n",
      "Epoch  3, CIFAR-10 Batch 1:  Accuracy: 0.232673 Cost:  2.10495\n",
      "Epoch  3, CIFAR-10 Batch 2:  Accuracy: 0.252475 Cost:  2.07515\n",
      "Epoch  3, CIFAR-10 Batch 3:  Accuracy: 0.256188 Cost:  2.04329\n",
      "Epoch  3, CIFAR-10 Batch 4:  Accuracy: 0.268564 Cost:  1.98553\n",
      "Epoch  3, CIFAR-10 Batch 5:  Accuracy: 0.273515 Cost:  1.97925\n",
      "Epoch  4, CIFAR-10 Batch 1:  Accuracy: 0.324257 Cost:  1.97966\n",
      "Epoch  4, CIFAR-10 Batch 2:  Accuracy: 0.284653 Cost:  1.95698\n",
      "Epoch  4, CIFAR-10 Batch 3:  Accuracy: 0.337871 Cost:  1.906\n",
      "Epoch  4, CIFAR-10 Batch 4:  Accuracy: 0.336634 Cost:  1.87373\n",
      "Epoch  4, CIFAR-10 Batch 5:  Accuracy: 0.320545 Cost:  1.87658\n",
      "Epoch  5, CIFAR-10 Batch 1:  Accuracy: 0.367574 Cost:  1.84972\n",
      "Epoch  5, CIFAR-10 Batch 2:  Accuracy: 0.361386 Cost:  1.83377\n",
      "Epoch  5, CIFAR-10 Batch 3:  Accuracy: 0.389851 Cost:  1.76125\n",
      "Epoch  5, CIFAR-10 Batch 4:  Accuracy: 0.356436 Cost:  1.74857\n",
      "Epoch  5, CIFAR-10 Batch 5:  Accuracy: 0.37005 Cost:  1.75971\n",
      "Epoch  6, CIFAR-10 Batch 1:  Accuracy: 0.404703 Cost:  1.751\n",
      "Epoch  6, CIFAR-10 Batch 2:  Accuracy: 0.382426 Cost:  1.75565\n",
      "Epoch  6, CIFAR-10 Batch 3:  Accuracy: 0.409653 Cost:  1.68068\n",
      "Epoch  6, CIFAR-10 Batch 4:  Accuracy: 0.387376 Cost:  1.67303\n",
      "Epoch  6, CIFAR-10 Batch 5:  Accuracy: 0.376238 Cost:  1.69757\n",
      "Epoch  7, CIFAR-10 Batch 1:  Accuracy: 0.418317 Cost:  1.69968\n",
      "Epoch  7, CIFAR-10 Batch 2:  Accuracy: 0.399752 Cost:  1.69883\n",
      "Epoch  7, CIFAR-10 Batch 3:  Accuracy: 0.430693 Cost:  1.6282\n",
      "Epoch  7, CIFAR-10 Batch 4:  Accuracy: 0.394802 Cost:  1.62759\n",
      "Epoch  7, CIFAR-10 Batch 5:  Accuracy: 0.393564 Cost:  1.64213\n",
      "Epoch  8, CIFAR-10 Batch 1:  Accuracy: 0.428218 Cost:  1.65231\n",
      "Epoch  8, CIFAR-10 Batch 2:  Accuracy: 0.418317 Cost:  1.62989\n",
      "Epoch  8, CIFAR-10 Batch 3:  Accuracy: 0.438119 Cost:  1.58756\n",
      "Epoch  8, CIFAR-10 Batch 4:  Accuracy: 0.415842 Cost:  1.54762\n",
      "Epoch  8, CIFAR-10 Batch 5:  Accuracy: 0.441832 Cost:  1.56691\n",
      "Epoch  9, CIFAR-10 Batch 1:  Accuracy: 0.449257 Cost:  1.60074\n",
      "Epoch  9, CIFAR-10 Batch 2:  Accuracy: 0.424505 Cost:  1.5817\n",
      "Epoch  9, CIFAR-10 Batch 3:  Accuracy: 0.454208 Cost:  1.51166\n",
      "Epoch  9, CIFAR-10 Batch 4:  Accuracy: 0.439356 Cost:  1.51208\n",
      "Epoch  9, CIFAR-10 Batch 5:  Accuracy: 0.444307 Cost:  1.52988\n",
      "Epoch 10, CIFAR-10 Batch 1:  Accuracy: 0.466584 Cost:  1.55535\n",
      "Epoch 10, CIFAR-10 Batch 2:  Accuracy: 0.434406 Cost:  1.54619\n",
      "Epoch 10, CIFAR-10 Batch 3:  Accuracy: 0.487624 Cost:  1.4801\n",
      "Epoch 10, CIFAR-10 Batch 4:  Accuracy: 0.44802 Cost:  1.46285\n",
      "Epoch 10, CIFAR-10 Batch 5:  Accuracy: 0.465347 Cost:  1.48767\n",
      "Epoch 11, CIFAR-10 Batch 1:  Accuracy: 0.483911 Cost:  1.5183\n",
      "Epoch 11, CIFAR-10 Batch 2:  Accuracy: 0.44802 Cost:  1.50758\n",
      "Epoch 11, CIFAR-10 Batch 3:  Accuracy: 0.491337 Cost:  1.45485\n",
      "Epoch 11, CIFAR-10 Batch 4:  Accuracy: 0.472772 Cost:  1.42587\n",
      "Epoch 11, CIFAR-10 Batch 5:  Accuracy: 0.454208 Cost:  1.48245\n",
      "Epoch 12, CIFAR-10 Batch 1:  Accuracy: 0.486386 Cost:  1.47915\n",
      "Epoch 12, CIFAR-10 Batch 2:  Accuracy: 0.44802 Cost:  1.482\n",
      "Epoch 12, CIFAR-10 Batch 3:  Accuracy: 0.495049 Cost:  1.43038\n",
      "Epoch 12, CIFAR-10 Batch 4:  Accuracy: 0.483911 Cost:  1.39402\n",
      "Epoch 12, CIFAR-10 Batch 5:  Accuracy: 0.481436 Cost:  1.43945\n",
      "Epoch 13, CIFAR-10 Batch 1:  Accuracy: 0.513614 Cost:  1.44215\n",
      "Epoch 13, CIFAR-10 Batch 2:  Accuracy: 0.466584 Cost:  1.46279\n",
      "Epoch 13, CIFAR-10 Batch 3:  Accuracy: 0.523515 Cost:  1.40106\n",
      "Epoch 13, CIFAR-10 Batch 4:  Accuracy: 0.493812 Cost:  1.36799\n",
      "Epoch 13, CIFAR-10 Batch 5:  Accuracy: 0.502475 Cost:  1.40582\n",
      "Epoch 14, CIFAR-10 Batch 1:  Accuracy: 0.508663 Cost:  1.40289\n",
      "Epoch 14, CIFAR-10 Batch 2:  Accuracy: 0.492574 Cost:  1.40939\n",
      "Epoch 14, CIFAR-10 Batch 3:  Accuracy: 0.543317 Cost:  1.36879\n",
      "Epoch 14, CIFAR-10 Batch 4:  Accuracy: 0.497525 Cost:  1.33405\n",
      "Epoch 14, CIFAR-10 Batch 5:  Accuracy: 0.509901 Cost:  1.3747\n",
      "Epoch 15, CIFAR-10 Batch 1:  Accuracy: 0.523515 Cost:  1.37735\n",
      "Epoch 15, CIFAR-10 Batch 2:  Accuracy: 0.491337 Cost:  1.39416\n",
      "Epoch 15, CIFAR-10 Batch 3:  Accuracy: 0.533416 Cost:  1.34436\n",
      "Epoch 15, CIFAR-10 Batch 4:  Accuracy: 0.514851 Cost:  1.31026\n",
      "Epoch 15, CIFAR-10 Batch 5:  Accuracy: 0.497525 Cost:  1.35328\n",
      "Epoch 16, CIFAR-10 Batch 1:  Accuracy: 0.534653 Cost:  1.36366\n",
      "Epoch 16, CIFAR-10 Batch 2:  Accuracy: 0.498762 Cost:  1.37173\n",
      "Epoch 16, CIFAR-10 Batch 3:  Accuracy: 0.553218 Cost:  1.31052\n",
      "Epoch 16, CIFAR-10 Batch 4:  Accuracy: 0.524752 Cost:  1.27235\n",
      "Epoch 16, CIFAR-10 Batch 5:  Accuracy: 0.519802 Cost:  1.3103\n",
      "Epoch 17, CIFAR-10 Batch 1:  Accuracy: 0.545792 Cost:  1.3306\n",
      "Epoch 17, CIFAR-10 Batch 2:  Accuracy: 0.517327 Cost:  1.32883\n",
      "Epoch 17, CIFAR-10 Batch 3:  Accuracy: 0.571782 Cost:  1.26067\n",
      "Epoch 17, CIFAR-10 Batch 4:  Accuracy: 0.502475 Cost:  1.29311\n",
      "Epoch 17, CIFAR-10 Batch 5:  Accuracy: 0.542079 Cost:  1.28944\n",
      "Epoch 18, CIFAR-10 Batch 1:  Accuracy: 0.54703 Cost:  1.29488\n",
      "Epoch 18, CIFAR-10 Batch 2:  Accuracy: 0.508663 Cost:  1.31069\n",
      "Epoch 18, CIFAR-10 Batch 3:  Accuracy: 0.556931 Cost:  1.26498\n",
      "Epoch 18, CIFAR-10 Batch 4:  Accuracy: 0.539604 Cost:  1.23332\n",
      "Epoch 18, CIFAR-10 Batch 5:  Accuracy: 0.544554 Cost:  1.26496\n",
      "Epoch 19, CIFAR-10 Batch 1:  Accuracy: 0.560644 Cost:  1.2613\n",
      "Epoch 19, CIFAR-10 Batch 2:  Accuracy: 0.527228 Cost:  1.29365\n",
      "Epoch 19, CIFAR-10 Batch 3:  Accuracy: 0.564356 Cost:  1.24054\n",
      "Epoch 19, CIFAR-10 Batch 4:  Accuracy: 0.55198 Cost:  1.21444\n",
      "Epoch 19, CIFAR-10 Batch 5:  Accuracy: 0.563119 Cost:  1.23818\n",
      "Epoch 20, CIFAR-10 Batch 1:  Accuracy: 0.560644 Cost:  1.24017\n",
      "Epoch 20, CIFAR-10 Batch 2:  Accuracy: 0.532178 Cost:  1.27461\n",
      "Epoch 20, CIFAR-10 Batch 3:  Accuracy: 0.560644 Cost:  1.22897\n",
      "Epoch 20, CIFAR-10 Batch 4:  Accuracy: 0.564356 Cost:  1.20551\n",
      "Epoch 20, CIFAR-10 Batch 5:  Accuracy: 0.560644 Cost:  1.2363\n",
      "Epoch 21, CIFAR-10 Batch 1:  Accuracy: 0.550743 Cost:  1.26734\n",
      "Epoch 21, CIFAR-10 Batch 2:  Accuracy: 0.548267 Cost:  1.26896\n",
      "Epoch 21, CIFAR-10 Batch 3:  Accuracy: 0.580445 Cost:  1.18767\n",
      "Epoch 21, CIFAR-10 Batch 4:  Accuracy: 0.568069 Cost:  1.18528\n",
      "Epoch 21, CIFAR-10 Batch 5:  Accuracy: 0.579208 Cost:  1.19798\n",
      "Epoch 22, CIFAR-10 Batch 1:  Accuracy: 0.569307 Cost:  1.20603\n",
      "Epoch 22, CIFAR-10 Batch 2:  Accuracy: 0.548267 Cost:  1.21103\n",
      "Epoch 22, CIFAR-10 Batch 3:  Accuracy: 0.57797 Cost:  1.16961\n",
      "Epoch 22, CIFAR-10 Batch 4:  Accuracy: 0.576733 Cost:  1.16723\n",
      "Epoch 22, CIFAR-10 Batch 5:  Accuracy: 0.589109 Cost:  1.16967\n",
      "Epoch 23, CIFAR-10 Batch 1:  Accuracy: 0.580446 Cost:  1.16289\n",
      "Epoch 23, CIFAR-10 Batch 2:  Accuracy: 0.575495 Cost:  1.1826\n",
      "Epoch 23, CIFAR-10 Batch 3:  Accuracy: 0.595297 Cost:  1.15189\n",
      "Epoch 23, CIFAR-10 Batch 4:  Accuracy: 0.566832 Cost:  1.15736\n",
      "Epoch 23, CIFAR-10 Batch 5:  Accuracy: 0.601485 Cost:  1.14763\n",
      "Epoch 24, CIFAR-10 Batch 1:  Accuracy: 0.601485 Cost:  1.13729\n",
      "Epoch 24, CIFAR-10 Batch 2:  Accuracy: 0.595297 Cost:  1.15887\n",
      "Epoch 24, CIFAR-10 Batch 3:  Accuracy: 0.574257 Cost:  1.16552\n",
      "Epoch 24, CIFAR-10 Batch 4:  Accuracy: 0.582921 Cost:  1.14666\n",
      "Epoch 24, CIFAR-10 Batch 5:  Accuracy: 0.589109 Cost:  1.15846\n",
      "Epoch 25, CIFAR-10 Batch 1:  Accuracy: 0.590347 Cost:  1.12847\n",
      "Epoch 25, CIFAR-10 Batch 2:  Accuracy: 0.571782 Cost:  1.16938\n",
      "Epoch 25, CIFAR-10 Batch 3:  Accuracy: 0.600248 Cost:  1.13026\n",
      "Epoch 25, CIFAR-10 Batch 4:  Accuracy: 0.594059 Cost:  1.11282\n",
      "Epoch 25, CIFAR-10 Batch 5:  Accuracy: 0.59901 Cost:  1.14602\n",
      "Epoch 26, CIFAR-10 Batch 1:  Accuracy: 0.596535 Cost:  1.11615\n",
      "Epoch 26, CIFAR-10 Batch 2:  Accuracy: 0.592822 Cost:  1.15355\n",
      "Epoch 26, CIFAR-10 Batch 3:  Accuracy: 0.586634 Cost:  1.13177\n",
      "Epoch 26, CIFAR-10 Batch 4:  Accuracy: 0.601485 Cost:  1.09042\n",
      "Epoch 26, CIFAR-10 Batch 5:  Accuracy: 0.628713 Cost:  1.0898\n",
      "Epoch 27, CIFAR-10 Batch 1:  Accuracy: 0.617574 Cost:  1.09945\n",
      "Epoch 27, CIFAR-10 Batch 2:  Accuracy: 0.57797 Cost:  1.1709\n",
      "Epoch 27, CIFAR-10 Batch 3:  Accuracy: 0.597772 Cost:  1.09087\n",
      "Epoch 27, CIFAR-10 Batch 4:  Accuracy: 0.627475 Cost:  1.0531\n",
      "Epoch 27, CIFAR-10 Batch 5:  Accuracy: 0.626238 Cost:  1.06799\n",
      "Epoch 28, CIFAR-10 Batch 1:  Accuracy: 0.618812 Cost:  1.08782\n",
      "Epoch 28, CIFAR-10 Batch 2:  Accuracy: 0.601485 Cost:  1.10987\n",
      "Epoch 28, CIFAR-10 Batch 3:  Accuracy: 0.615099 Cost:  1.07101\n",
      "Epoch 28, CIFAR-10 Batch 4:  Accuracy: 0.625 Cost:  1.0391\n",
      "Epoch 28, CIFAR-10 Batch 5:  Accuracy: 0.628713 Cost:  1.06778\n",
      "Epoch 29, CIFAR-10 Batch 1:  Accuracy: 0.623762 Cost:  1.06319\n",
      "Epoch 29, CIFAR-10 Batch 2:  Accuracy: 0.610148 Cost:  1.08328\n",
      "Epoch 29, CIFAR-10 Batch 3:  Accuracy: 0.607673 Cost:  1.06518\n",
      "Epoch 29, CIFAR-10 Batch 4:  Accuracy: 0.633663 Cost:  1.02342\n",
      "Epoch 29, CIFAR-10 Batch 5:  Accuracy: 0.655941 Cost:  1.02471\n",
      "Epoch 30, CIFAR-10 Batch 1:  Accuracy: 0.62995 Cost:  1.03416\n",
      "Epoch 30, CIFAR-10 Batch 2:  Accuracy: 0.606436 Cost:  1.06861\n",
      "Epoch 30, CIFAR-10 Batch 3:  Accuracy: 0.627475 Cost:  1.02596\n",
      "Epoch 30, CIFAR-10 Batch 4:  Accuracy: 0.644802 Cost:  0.994171\n",
      "Epoch 30, CIFAR-10 Batch 5:  Accuracy: 0.654703 Cost:  1.01903\n",
      "Epoch 31, CIFAR-10 Batch 1:  Accuracy: 0.634901 Cost:  1.03278\n",
      "Epoch 31, CIFAR-10 Batch 2:  Accuracy: 0.636139 Cost:  1.02837\n",
      "Epoch 31, CIFAR-10 Batch 3:  Accuracy: 0.632426 Cost:  1.03185\n",
      "Epoch 31, CIFAR-10 Batch 4:  Accuracy: 0.654703 Cost:  0.990318\n",
      "Epoch 31, CIFAR-10 Batch 5:  Accuracy: 0.668317 Cost:  1.00188\n",
      "Epoch 32, CIFAR-10 Batch 1:  Accuracy: 0.647277 Cost:  1.00423\n",
      "Epoch 32, CIFAR-10 Batch 2:  Accuracy: 0.631188 Cost:  1.04342\n",
      "Epoch 32, CIFAR-10 Batch 3:  Accuracy: 0.641089 Cost:  0.982857\n",
      "Epoch 32, CIFAR-10 Batch 4:  Accuracy: 0.665842 Cost:  0.975779\n",
      "Epoch 32, CIFAR-10 Batch 5:  Accuracy: 0.678218 Cost:  0.968974\n",
      "Epoch 33, CIFAR-10 Batch 1:  Accuracy: 0.654703 Cost:  0.982591\n",
      "Epoch 33, CIFAR-10 Batch 2:  Accuracy: 0.652228 Cost:  0.975836\n",
      "Epoch 33, CIFAR-10 Batch 3:  Accuracy: 0.632426 Cost:  0.994478\n",
      "Epoch 33, CIFAR-10 Batch 4:  Accuracy: 0.670792 Cost:  0.958171\n",
      "Epoch 33, CIFAR-10 Batch 5:  Accuracy: 0.694307 Cost:  0.951292\n",
      "Epoch 34, CIFAR-10 Batch 1:  Accuracy: 0.654703 Cost:  0.969176\n",
      "Epoch 34, CIFAR-10 Batch 2:  Accuracy: 0.655941 Cost:  0.971736\n",
      "Epoch 34, CIFAR-10 Batch 3:  Accuracy: 0.649752 Cost:  0.971705\n",
      "Epoch 34, CIFAR-10 Batch 4:  Accuracy: 0.67698 Cost:  0.938628\n",
      "Epoch 34, CIFAR-10 Batch 5:  Accuracy: 0.688119 Cost:  0.933796\n",
      "Epoch 35, CIFAR-10 Batch 1:  Accuracy: 0.643564 Cost:  0.948825\n",
      "Epoch 35, CIFAR-10 Batch 2:  Accuracy: 0.665842 Cost:  0.942026\n",
      "Epoch 35, CIFAR-10 Batch 3:  Accuracy: 0.633663 Cost:  0.977531\n",
      "Epoch 35, CIFAR-10 Batch 4:  Accuracy: 0.681931 Cost:  0.925573\n",
      "Epoch 35, CIFAR-10 Batch 5:  Accuracy: 0.709158 Cost:  0.925978\n",
      "Epoch 36, CIFAR-10 Batch 1:  Accuracy: 0.664604 Cost:  0.923013\n",
      "Epoch 36, CIFAR-10 Batch 2:  Accuracy: 0.670792 Cost:  0.939971\n",
      "Epoch 36, CIFAR-10 Batch 3:  Accuracy: 0.67203 Cost:  0.942798\n",
      "Epoch 36, CIFAR-10 Batch 4:  Accuracy: 0.688119 Cost:  0.907395\n",
      "Epoch 36, CIFAR-10 Batch 5:  Accuracy: 0.689356 Cost:  0.901911\n",
      "Epoch 37, CIFAR-10 Batch 1:  Accuracy: 0.667079 Cost:  0.90615\n",
      "Epoch 37, CIFAR-10 Batch 2:  Accuracy: 0.67203 Cost:  0.914053\n",
      "Epoch 37, CIFAR-10 Batch 3:  Accuracy: 0.662129 Cost:  0.93222\n",
      "Epoch 37, CIFAR-10 Batch 4:  Accuracy: 0.690594 Cost:  0.909099\n",
      "Epoch 37, CIFAR-10 Batch 5:  Accuracy: 0.72401 Cost:  0.884926\n",
      "Epoch 38, CIFAR-10 Batch 1:  Accuracy: 0.680693 Cost:  0.91504\n",
      "Epoch 38, CIFAR-10 Batch 2:  Accuracy: 0.69802 Cost:  0.889071\n",
      "Epoch 38, CIFAR-10 Batch 3:  Accuracy: 0.690594 Cost:  0.897703\n",
      "Epoch 38, CIFAR-10 Batch 4:  Accuracy: 0.691832 Cost:  0.849778\n",
      "Epoch 38, CIFAR-10 Batch 5:  Accuracy: 0.722772 Cost:  0.882252\n",
      "Epoch 39, CIFAR-10 Batch 1:  Accuracy: 0.680693 Cost:  0.879708\n",
      "Epoch 39, CIFAR-10 Batch 2:  Accuracy: 0.704208 Cost:  0.863989\n",
      "Epoch 39, CIFAR-10 Batch 3:  Accuracy: 0.707921 Cost:  0.876532\n",
      "Epoch 39, CIFAR-10 Batch 4:  Accuracy: 0.709158 Cost:  0.853671\n",
      "Epoch 39, CIFAR-10 Batch 5:  Accuracy: 0.725248 Cost:  0.85983\n",
      "Epoch 40, CIFAR-10 Batch 1:  Accuracy: 0.690594 Cost:  0.856295\n",
      "Epoch 40, CIFAR-10 Batch 2:  Accuracy: 0.684406 Cost:  0.860938\n",
      "Epoch 40, CIFAR-10 Batch 3:  Accuracy: 0.710396 Cost:  0.852395\n",
      "Epoch 40, CIFAR-10 Batch 4:  Accuracy: 0.709158 Cost:  0.842486\n",
      "Epoch 40, CIFAR-10 Batch 5:  Accuracy: 0.730198 Cost:  0.831039\n"
     ]
    }
   ],
   "source": [
    "\"\"\"\n",
    "DON'T MODIFY ANYTHING IN THIS CELL\n",
    "\"\"\"\n",
    "save_model_path = './image_classification'\n",
    "\n",
    "print('Training...')\n",
    "with tf.Session(config=tf.ConfigProto(allow_soft_placement=True)) as sess:\n",
    "    # Initializing the variables\n",
    "    sess.run(tf.global_variables_initializer())\n",
    "    \n",
    "    # Training cycle\n",
    "    for epoch in range(epochs):\n",
    "        # Loop over all batches\n",
    "        n_batches = 5\n",
    "        for batch_i in range(1, n_batches + 1):\n",
    "            for batch_features, batch_labels in helper.load_preprocess_training_batch(batch_i, batch_size):\n",
    "                train_neural_network(sess, optimizer, keep_probability, batch_features, batch_labels)\n",
    "            print('Epoch {:>2}, CIFAR-10 Batch {}:  '.format(epoch + 1, batch_i), end='')\n",
    "            print_stats(sess, batch_features, batch_labels, cost, accuracy)\n",
    "            \n",
    "    # Save Model\n",
    "    saver = tf.train.Saver()\n",
    "    save_path = saver.save(sess, save_model_path)"
   ]
  },
  {
   "cell_type": "markdown",
   "metadata": {},
   "source": [
    "# Checkpoint\n",
    "The model has been saved to disk.\n",
    "## Test Model\n",
    "Test your model against the test dataset.  This will be your final accuracy. You should have an accuracy greater than 50%. If you don't, keep tweaking the model architecture and parameters."
   ]
  },
  {
   "cell_type": "code",
   "execution_count": 43,
   "metadata": {
    "collapsed": false
   },
   "outputs": [
    {
     "name": "stdout",
     "output_type": "stream",
     "text": [
      "Testing Accuracy: 0.6104777455329895\n",
      "\n"
     ]
    },
    {
     "data": {
      "image/png": "[encoded data removed]",
      "text/plain": [
       "<matplotlib.figure.Figure at 0x13a1c1208>"
      ]
     },
     "metadata": {
      "image/png": {
       "height": 319,
       "width": 355
      }
     },
     "output_type": "display_data"
    }
   ],
   "source": [
    "\"\"\"\n",
    "DON'T MODIFY ANYTHING IN THIS CELL\n",
    "\"\"\"\n",
    "%matplotlib inline\n",
    "%config InlineBackend.figure_format = 'retina'\n",
    "\n",
    "import tensorflow as tf\n",
    "import pickle\n",
    "import helper\n",
    "import random\n",
    "\n",
    "# Set batch size if not already set\n",
    "try:\n",
    "    if batch_size:\n",
    "        pass\n",
    "except NameError:\n",
    "    batch_size = 64\n",
    "\n",
    "save_model_path = './image_classification'\n",
    "n_samples = 4\n",
    "top_n_predictions = 3\n",
    "\n",
    "def test_model():\n",
    "    \"\"\"\n",
    "    Test the saved model against the test dataset\n",
    "    \"\"\"\n",
    "\n",
    "    test_features, test_labels = pickle.load(open('preprocess_training.p', mode='rb'))\n",
    "    loaded_graph = tf.Graph()\n",
    "\n",
    "    with tf.Session(graph=loaded_graph) as sess:\n",
    "        # Load model\n",
    "        loader = tf.train.import_meta_graph(save_model_path + '.meta')\n",
    "        loader.restore(sess, save_model_path)\n",
    "\n",
    "        # Get Tensors from loaded model\n",
    "        loaded_x = loaded_graph.get_tensor_by_name('x:0')\n",
    "        loaded_y = loaded_graph.get_tensor_by_name('y:0')\n",
    "        loaded_keep_prob = loaded_graph.get_tensor_by_name('keep_prob:0')\n",
    "        loaded_logits = loaded_graph.get_tensor_by_name('logits:0')\n",
    "        loaded_acc = loaded_graph.get_tensor_by_name('accuracy:0')\n",
    "        \n",
    "        # Get accuracy in batches for memory limitations\n",
    "        test_batch_acc_total = 0\n",
    "        test_batch_count = 0\n",
    "        \n",
    "        for train_feature_batch, train_label_batch in helper.batch_features_labels(test_features, test_labels, batch_size):\n",
    "            test_batch_acc_total += sess.run(\n",
    "                loaded_acc,\n",
    "                feed_dict={loaded_x: train_feature_batch, loaded_y: train_label_batch, loaded_keep_prob: 1.0})\n",
    "            test_batch_count += 1\n",
    "\n",
    "        print('Testing Accuracy: {}\\n'.format(test_batch_acc_total/test_batch_count))\n",
    "\n",
    "        # Print Random Samples\n",
    "        random_test_features, random_test_labels = tuple(zip(*random.sample(list(zip(test_features, test_labels)), n_samples)))\n",
    "        random_test_predictions = sess.run(\n",
    "            tf.nn.top_k(tf.nn.softmax(loaded_logits), top_n_predictions),\n",
    "            feed_dict={loaded_x: random_test_features, loaded_y: random_test_labels, loaded_keep_prob: 1.0})\n",
    "        helper.display_image_predictions(random_test_features, random_test_labels, random_test_predictions)\n",
    "\n",
    "\n",
    "test_model()"
   ]
  },
  {
   "cell_type": "markdown",
   "metadata": {},
   "source": [
    "## Why 50-70% Accuracy?\n",
    "You might be wondering why you can't get an accuracy any higher. First things first, 50% isn't bad for a simple CNN.  Pure guessing would get you 10% accuracy. However, you might notice people are getting scores [well above 70%](http://rodrigob.github.io/are_we_there_yet/build/classification_datasets_results.html#43494641522d3130).  That's because we haven't taught you all there is to know about neural networks. We still need to cover a few more techniques.\n",
    "## Submitting This Project\n",
    "When submitting this project, make sure to run all the cells before saving the notebook.  Save the notebook file as \"dlnd_image_classification.ipynb\" and save it as a HTML file under \"File\" -> \"Download as\".  Include the \"helper.py\" and \"problem_unittests.py\" files in your submission."
   ]
  }
 ],
 "metadata": {
  "kernelspec": {
   "display_name": "Python 3",
   "language": "python",
   "name": "python3"
  },
  "language_info": {
   "codemirror_mode": {
    "name": "ipython",
    "version": 3
   },
   "file_extension": ".py",
   "mimetype": "text/x-python",
   "name": "python",
   "nbconvert_exporter": "python",
   "pygments_lexer": "ipython3",
   "version": "3.6.0"
  }
 },
 "nbformat": 4,
 "nbformat_minor": 0
}
